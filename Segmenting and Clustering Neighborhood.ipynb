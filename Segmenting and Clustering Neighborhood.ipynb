{
    "nbformat_minor": 1, 
    "cells": [
        {
            "source": "# Assignment: \"Segmenting and Clustering Neighborhoods in Toronto\" (Part 1)", 
            "cell_type": "markdown", 
            "metadata": {
                "collapsed": true
            }
        }, 
        {
            "source": "## Importing libraries to work", 
            "cell_type": "markdown", 
            "metadata": {}
        }, 
        {
            "source": "import pandas as pd\nimport numpy as py", 
            "cell_type": "code", 
            "metadata": {}, 
            "outputs": [], 
            "execution_count": 3
        }, 
        {
            "source": "from bs4 import BeautifulSoup\nimport requests", 
            "cell_type": "code", 
            "metadata": {}, 
            "outputs": [], 
            "execution_count": 5
        }, 
        {
            "source": "## Extracting the table from Wikipedia link", 
            "cell_type": "markdown", 
            "metadata": {}
        }, 
        {
            "source": "wikipedia_link='https://en.wikipedia.org/wiki/List_of_postal_codes_of_Canada:_M'\nraw_wikipedia_page= requests.get(wikipedia_link).text", 
            "cell_type": "code", 
            "metadata": {}, 
            "outputs": [], 
            "execution_count": 6
        }, 
        {
            "source": "soup = BeautifulSoup(raw_wikipedia_page,'xml')", 
            "cell_type": "code", 
            "metadata": {}, 
            "outputs": [], 
            "execution_count": 12
        }, 
        {
            "source": "table = soup.find('table')\n\nPostcode      = []\nBorough       = []\nNeighbourhood = []", 
            "cell_type": "code", 
            "metadata": {}, 
            "outputs": [], 
            "execution_count": 17
        }, 
        {
            "source": "for tr_cell in table.find_all('tr'):\n    \n    counter = 1\n    Postcode_var      = -1\n    Borough_var       = -1\n    Neighbourhood_var = -1\n    \n    for td_cell in tr_cell.find_all('td'):\n        if counter == 1: \n            Postcode_var = td_cell.text\n        if counter == 2: \n            Borough_var = td_cell.text\n            tag_a_Borough = td_cell.find('a')\n            \n        if counter == 3: \n            Neighbourhood_var = str(td_cell.text).strip()\n            tag_a_Neighbourhood = td_cell.find('a')\n        counter +=1\n        \n        if (Postcode_var == 'Not assigned' or Borough_var == 'Not assigned' or Neighbourhood_var == 'Not assigned'):\n            \n            continue\n            \n           \n    try:\n        if ((tag_a_Borough is None) or (tag_a_Neighbourhood is None)):\n            \n            continue\n          \n            \n    except:\n        \n        pass\n    \n    if(Postcode_var == -1 or Borough_var == -1 or Neighbourhood_var == -1):\n        \n        continue\n        \n    Postcode.append(Postcode_var)\n    Borough.append(Borough_var)\n    Neighbourhood.append(Neighbourhood_var)", 
            "cell_type": "code", 
            "metadata": {}, 
            "outputs": [], 
            "execution_count": 18
        }, 
        {
            "source": "## Unifying Postal codes with more than one neighbour ", 
            "cell_type": "markdown", 
            "metadata": {}
        }, 
        {
            "source": "unique_p = set(Postcode)\nprint('num of unique Postal codes:', len(unique_p))\nPostcode_u      = []\nBorough_u       = []\nNeighbourhood_u = []\n\n\nfor postcode_unique_element in unique_p:\n    p_var = ''; b_var = ''; n_var = ''; \n    for postcode_idx, postcode_element in enumerate(Postcode):\n        if postcode_unique_element == postcode_element:\n            p_var = postcode_element;\n            b_var = Borough[postcode_idx]\n            if n_var == '': \n                n_var = Neighbourhood[postcode_idx]\n            else:\n                n_var = n_var + ', ' + Neighbourhood[postcode_idx]\n    Postcode_u.append(p_var)\n    Borough_u.append(b_var)\n    Neighbourhood_u.append(n_var)", 
            "cell_type": "code", 
            "metadata": {}, 
            "outputs": [
                {
                    "output_type": "stream", 
                    "name": "stdout", 
                    "text": "num of unique Postal codes: 77\n"
                }
            ], 
            "execution_count": 23
        }, 
        {
            "source": "## Converting the data into Pandas Dataframe", 
            "cell_type": "markdown", 
            "metadata": {}
        }, 
        {
            "source": "toronto_dict = {'Borough':Borough_u, 'Neighbourhood':Neighbourhood_u, 'Postcode':Postcode_u}\ndf_toronto = pd.DataFrame.from_dict(toronto_dict)\ndf_toronto.to_csv('toronto_part1.csv')\ndf_toronto.head(14)", 
            "cell_type": "code", 
            "metadata": {}, 
            "outputs": [
                {
                    "output_type": "execute_result", 
                    "data": {
                        "text/plain": "             Borough                                 Neighbourhood Postcode\n0       East Toronto                                  India Bazaar      M4L\n1        Scarborough        Highland Creek, Rouge Hill, Port Union      M1C\n2          Etobicoke  Islington, Princess Gardens, West Deane Park      M9B\n3       East Toronto                                     Riverdale      M4K\n4          East York                              Woodbine Heights      M4C\n5   Downtown Toronto      Design Exchange, Toronto Dominion Centre      M5K\n6   Downtown Toronto                     Harbourfront, Regent Park      M5A\n7         North York                                Downsview West      M3L\n8         North York                              Victoria Village      M4A\n9        Scarborough                                 Tam O'Shanter      M1T\n10      West Toronto                            Runnymede, Swansea      M6S\n11         Etobicoke                                   New Toronto      M8V\n12       Scarborough                         Ionview, Kennedy Park      M1K\n13         East York                              Thorncliffe Park      M4H", 
                        "text/html": "<div>\n<style scoped>\n    .dataframe tbody tr th:only-of-type {\n        vertical-align: middle;\n    }\n\n    .dataframe tbody tr th {\n        vertical-align: top;\n    }\n\n    .dataframe thead th {\n        text-align: right;\n    }\n</style>\n<table border=\"1\" class=\"dataframe\">\n  <thead>\n    <tr style=\"text-align: right;\">\n      <th></th>\n      <th>Borough</th>\n      <th>Neighbourhood</th>\n      <th>Postcode</th>\n    </tr>\n  </thead>\n  <tbody>\n    <tr>\n      <th>0</th>\n      <td>East Toronto</td>\n      <td>India Bazaar</td>\n      <td>M4L</td>\n    </tr>\n    <tr>\n      <th>1</th>\n      <td>Scarborough</td>\n      <td>Highland Creek, Rouge Hill, Port Union</td>\n      <td>M1C</td>\n    </tr>\n    <tr>\n      <th>2</th>\n      <td>Etobicoke</td>\n      <td>Islington, Princess Gardens, West Deane Park</td>\n      <td>M9B</td>\n    </tr>\n    <tr>\n      <th>3</th>\n      <td>East Toronto</td>\n      <td>Riverdale</td>\n      <td>M4K</td>\n    </tr>\n    <tr>\n      <th>4</th>\n      <td>East York</td>\n      <td>Woodbine Heights</td>\n      <td>M4C</td>\n    </tr>\n    <tr>\n      <th>5</th>\n      <td>Downtown Toronto</td>\n      <td>Design Exchange, Toronto Dominion Centre</td>\n      <td>M5K</td>\n    </tr>\n    <tr>\n      <th>6</th>\n      <td>Downtown Toronto</td>\n      <td>Harbourfront, Regent Park</td>\n      <td>M5A</td>\n    </tr>\n    <tr>\n      <th>7</th>\n      <td>North York</td>\n      <td>Downsview West</td>\n      <td>M3L</td>\n    </tr>\n    <tr>\n      <th>8</th>\n      <td>North York</td>\n      <td>Victoria Village</td>\n      <td>M4A</td>\n    </tr>\n    <tr>\n      <th>9</th>\n      <td>Scarborough</td>\n      <td>Tam O'Shanter</td>\n      <td>M1T</td>\n    </tr>\n    <tr>\n      <th>10</th>\n      <td>West Toronto</td>\n      <td>Runnymede, Swansea</td>\n      <td>M6S</td>\n    </tr>\n    <tr>\n      <th>11</th>\n      <td>Etobicoke</td>\n      <td>New Toronto</td>\n      <td>M8V</td>\n    </tr>\n    <tr>\n      <th>12</th>\n      <td>Scarborough</td>\n      <td>Ionview, Kennedy Park</td>\n      <td>M1K</td>\n    </tr>\n    <tr>\n      <th>13</th>\n      <td>East York</td>\n      <td>Thorncliffe Park</td>\n      <td>M4H</td>\n    </tr>\n  </tbody>\n</table>\n</div>"
                    }, 
                    "execution_count": 21, 
                    "metadata": {}
                }
            ], 
            "execution_count": 21
        }, 
        {
            "source": "## Obtaining the number of rows of my dataframe", 
            "cell_type": "markdown", 
            "metadata": {}
        }, 
        {
            "source": "df_toronto.shape", 
            "cell_type": "code", 
            "metadata": {}, 
            "outputs": [
                {
                    "output_type": "execute_result", 
                    "data": {
                        "text/plain": "(77, 3)"
                    }, 
                    "execution_count": 24, 
                    "metadata": {}
                }
            ], 
            "execution_count": 24
        }, 
        {
            "source": "", 
            "cell_type": "code", 
            "metadata": {}, 
            "outputs": [], 
            "execution_count": null
        }
    ], 
    "metadata": {
        "kernelspec": {
            "display_name": "Python 3.5", 
            "name": "python3", 
            "language": "python"
        }, 
        "language_info": {
            "mimetype": "text/x-python", 
            "nbconvert_exporter": "python", 
            "version": "3.5.5", 
            "name": "python", 
            "pygments_lexer": "ipython3", 
            "file_extension": ".py", 
            "codemirror_mode": {
                "version": 3, 
                "name": "ipython"
            }
        }
    }, 
    "nbformat": 4
}