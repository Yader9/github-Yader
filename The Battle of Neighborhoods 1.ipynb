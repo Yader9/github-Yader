{
    "nbformat_minor": 1, 
    "cells": [
        {
            "source": "# Applied Data Science Capstone\n## Peer-graded Assignment: Capstone Project - The Battle of Neighborhoods (Week1)\nYader Rafael Carrillo Jaime\n\nFuture Physicist and Junior Data Scientist ", 
            "cell_type": "markdown", 
            "metadata": {
                "collapsed": true
            }
        }, 
        {
            "source": "## 1) Introduction/Business Problem", 
            "cell_type": "markdown", 
            "metadata": {}
        }, 
        {
            "source": "Around the world, hundreds of people are trying everyday to open small and medium businesses. No matter in what city they are planing to do it, they will look for the best place with the aim of increase their earnings. The present project, is directed to help future entrepreneurs in order to chose the best location to build their businesses in New York City, through providing data about neighborhoods' characteristics and common venues to set up the venture.", 
            "cell_type": "markdown", 
            "metadata": {}
        }, 
        {
            "source": "It should be noted that to reach this goal, we need to follow a particular structure to show the results. In this case, we were claimed to follow the typical Data science methodology. I hope to do the best of myself along the project.", 
            "cell_type": "markdown", 
            "metadata": {}
        }, 
        {
            "source": "", 
            "cell_type": "code", 
            "metadata": {}, 
            "outputs": [], 
            "execution_count": null
        }
    ], 
    "metadata": {
        "kernelspec": {
            "display_name": "Python 3.5", 
            "name": "python3", 
            "language": "python"
        }, 
        "language_info": {
            "mimetype": "text/x-python", 
            "nbconvert_exporter": "python", 
            "version": "3.5.5", 
            "name": "python", 
            "file_extension": ".py", 
            "pygments_lexer": "ipython3", 
            "codemirror_mode": {
                "version": 3, 
                "name": "ipython"
            }
        }
    }, 
    "nbformat": 4
}